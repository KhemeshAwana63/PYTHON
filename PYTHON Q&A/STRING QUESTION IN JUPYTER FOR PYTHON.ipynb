{
 "cells": [
  {
   "cell_type": "markdown",
   "metadata": {},
   "source": [
    "##### 1. Write a function to reverse a string without using slicing (`[::-1]`)."
   ]
  },
  {
   "cell_type": "code",
   "execution_count": null,
   "metadata": {},
   "outputs": [],
   "source": [
    "a = \"the programming language python\"\n",
    "reversed_string = \"\".join(reversed(a)) #method no 1 using reversed and join fuction\n",
    "print(reversed_string)"
   ]
  },
  {
   "cell_type": "code",
   "execution_count": null,
   "metadata": {},
   "outputs": [],
   "source": [
    "reversed_string2 = \"\"\n",
    "for char in a:\n",
    "    reversed_string2 = char + reversed_string2 #another method using loops\n",
    "print(reversed_string2)"
   ]
  },
  {
   "cell_type": "code",
   "execution_count": null,
   "metadata": {},
   "outputs": [],
   "source": [
    "from functools import reduce\n",
    "reversed_string3 = reduce(lambda x , y : y + x , a)    #method no 3\n",
    "print(reversed_string3)"
   ]
  },
  {
   "cell_type": "markdown",
   "metadata": {},
   "source": [
    "##### 2. Write a function that checks if a string is a palindrome (case-insensitive). "
   ]
  },
  {
   "cell_type": "code",
   "execution_count": null,
   "metadata": {},
   "outputs": [],
   "source": [
    "#to make something case insensitive we use .lower()\n",
    "a = \"racecar\"\n",
    "def palindrome(str):\n",
    "    b = \"\".join(reversed(str))\n",
    "    if str == b:\n",
    "        print(\"yes it is a palindrome\")\n",
    "    else:\n",
    "        print(\"not a palindrome\")"
   ]
  },
  {
   "cell_type": "markdown",
   "metadata": {},
   "source": [
    "#####  3. How do you remove duplicate characters from a string while maintaining order?"
   ]
  },
  {
   "cell_type": "code",
   "execution_count": null,
   "metadata": {},
   "outputs": [],
   "source": [
    "from collections import OrderedDict\n",
    "\n",
    "def removing_duplicates(str):\n",
    "    return \"\".join(OrderedDict.fromkeys(str))"
   ]
  },
  {
   "cell_type": "code",
   "execution_count": null,
   "metadata": {},
   "outputs": [],
   "source": [
    "def removing_duplicates(str):\n",
    "    seen = set()\n",
    "    result = []\n",
    "    for char in str:\n",
    "        if char not in seen:\n",
    "            seen.add(char)\n",
    "            result.append(char)\n",
    "    return \"\".join(result)"
   ]
  },
  {
   "cell_type": "markdown",
   "metadata": {},
   "source": [
    "##### 4. Convert 'hello world' to 'Hello World' without using `.title()`."
   ]
  },
  {
   "cell_type": "code",
   "execution_count": null,
   "metadata": {},
   "outputs": [],
   "source": [
    "def to_title_case(a):\n",
    "    split = a.split()\n",
    "    capitalized_words = []\n",
    "    for word in split:\n",
    "        capitalized_words.append(word.capitalize())\n",
    "    return \" \".join(capitalized_words)"
   ]
  },
  {
   "cell_type": "markdown",
   "metadata": {},
   "source": [
    "##### 5. Implement a function that counts vowels and consonants in a string."
   ]
  },
  {
   "cell_type": "code",
   "execution_count": null,
   "metadata": {},
   "outputs": [],
   "source": [
    "#before you used something like a , e , i ,u ,o which is wrong way of \n",
    "#doing it because this method will consider all of these true and if condition\n",
    "#will be satisfied for every alphabets\n",
    "def counter(str):\n",
    "    vowels = \"aeiou\"\n",
    "    list1 = []\n",
    "    list2 = []\n",
    "    for char in str:\n",
    "        if char in vowels:\n",
    "            list1.append(char)\n",
    "        else:\n",
    "            list2.append(char)\n",
    "    print(\"the number of vowels are\",len(list1))\n",
    "    print(\"the number of consonants are\" , len(list2))"
   ]
  }
 ],
 "metadata": {
  "kernelspec": {
   "display_name": "Python 3",
   "language": "python",
   "name": "python3"
  },
  "language_info": {
   "codemirror_mode": {
    "name": "ipython",
    "version": 3
   },
   "file_extension": ".py",
   "mimetype": "text/x-python",
   "name": "python",
   "nbconvert_exporter": "python",
   "pygments_lexer": "ipython3",
   "version": "3.13.2"
  }
 },
 "nbformat": 4,
 "nbformat_minor": 2
}
